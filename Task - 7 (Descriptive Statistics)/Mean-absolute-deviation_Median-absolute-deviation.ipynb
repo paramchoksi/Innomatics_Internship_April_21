{
 "cells": [
  {
   "cell_type": "code",
   "execution_count": 1,
   "metadata": {},
   "outputs": [],
   "source": [
    "import numpy as np"
   ]
  },
  {
   "cell_type": "code",
   "execution_count": 4,
   "metadata": {},
   "outputs": [
    {
     "name": "stdout",
     "output_type": "stream",
     "text": [
      "[18, 29, 24, 18, 13, 12, 14, 10, 2, 1]\n",
      "[1, 2, 10, 12, 13, 14, 18, 18, 24, 29]\n"
     ]
    }
   ],
   "source": [
    "data = [18, 29, 24, 18, 13, 12, 14, 10,  2,  1]\n",
    "print(data)\n",
    "data.sort()\n",
    "print(data)"
   ]
  },
  {
   "cell_type": "markdown",
   "metadata": {},
   "source": [
    "### Mean Absolute Deviation"
   ]
  },
  {
   "cell_type": "code",
   "execution_count": 12,
   "metadata": {},
   "outputs": [
    {
     "name": "stdout",
     "output_type": "stream",
     "text": [
      "Absolute Deviation: [12.5, 11.5, 3.5, 1.5, 0.5, 0.5, 4.5, 4.5, 10.5]\n",
      "Mean Absolute Deviation: 5.5\n"
     ]
    }
   ],
   "source": [
    "median_ = np.median(data)\n",
    "absolute_deviation = []\n",
    "for i in range(len(data)-1):\n",
    "    absolute_deviation.append(abs(data[i] - median_))\n",
    "\n",
    "print(\"Absolute Deviation:\", absolute_deviation)\n",
    "mean_absolute_deviation = np.mean(absolute_deviation)\n",
    "print(\"Mean Absolute Deviation:\", mean_absolute_deviation)\n",
    "\n",
    "# Mean absolute deviation is affected by outlires because it use mean at the end."
   ]
  },
  {
   "cell_type": "markdown",
   "metadata": {},
   "source": [
    "### Median Absolute Deviation"
   ]
  },
  {
   "cell_type": "code",
   "execution_count": 13,
   "metadata": {},
   "outputs": [
    {
     "name": "stdout",
     "output_type": "stream",
     "text": [
      "Absolute Deviation: [12.5, 11.5, 3.5, 1.5, 0.5, 0.5, 4.5, 4.5, 10.5]\n",
      "Median Absolute Deviation: 4.5\n"
     ]
    }
   ],
   "source": [
    "median_ = np.median(data)\n",
    "absolute_deviation = []\n",
    "sum_ = 0\n",
    "for i in range(len(data)-1):\n",
    "    absolute_deviation.append(abs(data[i] - median_))\n",
    "\n",
    "print(\"Absolute Deviation:\", absolute_deviation)\n",
    "median_absolute_deviation = np.median(absolute_deviation)\n",
    "print(\"Median Absolute Deviation:\", median_absolute_deviation)\n",
    "\n",
    "# Median absolute deviation is not affected by outliers because it uses median only."
   ]
  },
  {
   "cell_type": "markdown",
   "metadata": {},
   "source": [
    "<!-- measure of spread       affected by outliers\n",
    "\n",
    "Mean                           yes\n",
    "Median                         No\n",
    "Mode                           No\n",
    "Variance                       Yes\n",
    "Standard Deviation             Yes\n",
    "Mean Absolute Deviation        yes\n",
    "Median Absolute Deviation      No -->"
   ]
  },
  {
   "cell_type": "markdown",
   "metadata": {},
   "source": [
    "    Measures               Outlier affect\n",
    "    \n",
    "    Mean                       yes\n",
    "    Median                     no\n",
    "    Mode                       no\n",
    "    Variance                   yes\n",
    "    Standard Deviation         yes\n",
    "    Range                      yes\n",
    "    Interquartile Range (IQR)  no\n",
    "    Mean Absolute Deviation    yes\n",
    "    Medain Absolute Deviation  no"
   ]
  },
  {
   "cell_type": "code",
   "execution_count": null,
   "metadata": {},
   "outputs": [],
   "source": []
  }
 ],
 "metadata": {
  "kernelspec": {
   "display_name": "Python 3",
   "language": "python",
   "name": "python3"
  },
  "language_info": {
   "codemirror_mode": {
    "name": "ipython",
    "version": 3
   },
   "file_extension": ".py",
   "mimetype": "text/x-python",
   "name": "python",
   "nbconvert_exporter": "python",
   "pygments_lexer": "ipython3",
   "version": "3.8.5"
  }
 },
 "nbformat": 4,
 "nbformat_minor": 4
}
