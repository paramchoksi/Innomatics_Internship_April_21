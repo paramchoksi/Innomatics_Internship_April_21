{
 "cells": [
  {
   "cell_type": "markdown",
   "metadata": {},
   "source": [
    "## Load Data"
   ]
  },
  {
   "cell_type": "code",
   "execution_count": 1,
   "metadata": {},
   "outputs": [
    {
     "data": {
      "text/html": [
       "<div>\n",
       "<style scoped>\n",
       "    .dataframe tbody tr th:only-of-type {\n",
       "        vertical-align: middle;\n",
       "    }\n",
       "\n",
       "    .dataframe tbody tr th {\n",
       "        vertical-align: top;\n",
       "    }\n",
       "\n",
       "    .dataframe thead th {\n",
       "        text-align: right;\n",
       "    }\n",
       "</style>\n",
       "<table border=\"1\" class=\"dataframe\">\n",
       "  <thead>\n",
       "    <tr style=\"text-align: right;\">\n",
       "      <th></th>\n",
       "      <th>Mthly_HH_Income</th>\n",
       "      <th>Mthly_HH_Expense</th>\n",
       "      <th>No_of_Fly_Members</th>\n",
       "      <th>Emi_or_Rent_Amt</th>\n",
       "      <th>Annual_HH_Income</th>\n",
       "      <th>Highest_Qualified_Member</th>\n",
       "      <th>No_of_Earning_Members</th>\n",
       "    </tr>\n",
       "  </thead>\n",
       "  <tbody>\n",
       "    <tr>\n",
       "      <th>0</th>\n",
       "      <td>5000</td>\n",
       "      <td>8000</td>\n",
       "      <td>3</td>\n",
       "      <td>2000</td>\n",
       "      <td>64200</td>\n",
       "      <td>Under-Graduate</td>\n",
       "      <td>1</td>\n",
       "    </tr>\n",
       "    <tr>\n",
       "      <th>1</th>\n",
       "      <td>6000</td>\n",
       "      <td>7000</td>\n",
       "      <td>2</td>\n",
       "      <td>3000</td>\n",
       "      <td>79920</td>\n",
       "      <td>Illiterate</td>\n",
       "      <td>1</td>\n",
       "    </tr>\n",
       "    <tr>\n",
       "      <th>2</th>\n",
       "      <td>10000</td>\n",
       "      <td>4500</td>\n",
       "      <td>2</td>\n",
       "      <td>0</td>\n",
       "      <td>112800</td>\n",
       "      <td>Under-Graduate</td>\n",
       "      <td>1</td>\n",
       "    </tr>\n",
       "    <tr>\n",
       "      <th>3</th>\n",
       "      <td>10000</td>\n",
       "      <td>2000</td>\n",
       "      <td>1</td>\n",
       "      <td>0</td>\n",
       "      <td>97200</td>\n",
       "      <td>Illiterate</td>\n",
       "      <td>1</td>\n",
       "    </tr>\n",
       "    <tr>\n",
       "      <th>4</th>\n",
       "      <td>12500</td>\n",
       "      <td>12000</td>\n",
       "      <td>2</td>\n",
       "      <td>3000</td>\n",
       "      <td>147000</td>\n",
       "      <td>Graduate</td>\n",
       "      <td>1</td>\n",
       "    </tr>\n",
       "  </tbody>\n",
       "</table>\n",
       "</div>"
      ],
      "text/plain": [
       "   Mthly_HH_Income  Mthly_HH_Expense  No_of_Fly_Members  Emi_or_Rent_Amt  \\\n",
       "0             5000              8000                  3             2000   \n",
       "1             6000              7000                  2             3000   \n",
       "2            10000              4500                  2                0   \n",
       "3            10000              2000                  1                0   \n",
       "4            12500             12000                  2             3000   \n",
       "\n",
       "   Annual_HH_Income Highest_Qualified_Member  No_of_Earning_Members  \n",
       "0             64200           Under-Graduate                      1  \n",
       "1             79920               Illiterate                      1  \n",
       "2            112800           Under-Graduate                      1  \n",
       "3             97200               Illiterate                      1  \n",
       "4            147000                 Graduate                      1  "
      ]
     },
     "execution_count": 1,
     "metadata": {},
     "output_type": "execute_result"
    }
   ],
   "source": [
    "import pandas as pd\n",
    "data = pd.read_csv('data.csv')\n",
    "data.head()"
   ]
  },
  {
   "cell_type": "markdown",
   "metadata": {},
   "source": [
    "## Variance -- -- -- -- -- -- -- -- -- -- -- -- -- -- -- -- -- -- -- -- -- -- -- -- -- -- -- -- -- -- -- -- -- -- -- -- -- -- -- -- -- "
   ]
  },
  {
   "cell_type": "markdown",
   "metadata": {},
   "source": [
    "### WIthout Using Inbuilt Functions/Library"
   ]
  },
  {
   "cell_type": "code",
   "execution_count": 2,
   "metadata": {},
   "outputs": [
    {
     "name": "stdout",
     "output_type": "stream",
     "text": [
      "Mthly_HH_Income Mean : 41558.0\n",
      "Mthly_HH_Expense Mean : 18818.0\n",
      "No_of_Fly_Members Mean : 4.06\n"
     ]
    }
   ],
   "source": [
    "def means(numbers):\n",
    "    return sum(numbers)/len(numbers)\n",
    "\n",
    "mthly_income_mean = means(data['Mthly_HH_Income'])\n",
    "print(\"Mthly_HH_Income Mean :\", mthly_income_mean)\n",
    "\n",
    "mthly_expense_mean = means(data['Mthly_HH_Expense'])\n",
    "print(\"Mthly_HH_Expense Mean :\", mthly_expense_mean)\n",
    "\n",
    "no_of_fly_members_mean = means(data['No_of_Fly_Members'])\n",
    "print(\"No_of_Fly_Members Mean :\", no_of_fly_members_mean)"
   ]
  },
  {
   "cell_type": "code",
   "execution_count": 3,
   "metadata": {},
   "outputs": [
    {
     "name": "stdout",
     "output_type": "stream",
     "text": [
      "Mthly_HH_Income Variance : 667478836.0\n",
      "Mthly_HH_Expense Variance : 143249876.0\n",
      "No_of_Fly_Members Variance : 2.2564\n"
     ]
    }
   ],
   "source": [
    "def variance(column, mean_value):\n",
    "    addition = 0\n",
    "    for column_value in column:\n",
    "        addition += abs(column_value - mean_value)**2\n",
    "    \n",
    "    return addition/len(column)\n",
    "\n",
    "mthly_income_varience = variance(data['Mthly_HH_Income'], mthly_income_mean)\n",
    "print(\"Mthly_HH_Income Variance :\", mthly_income_varience)\n",
    "\n",
    "mthly_expense_varience = variance(data['Mthly_HH_Expense'], mthly_expense_mean)\n",
    "print(\"Mthly_HH_Expense Variance :\", mthly_expense_varience)\n",
    "\n",
    "no_of_fly_members_varience = variance(data['No_of_Fly_Members'], no_of_fly_members_mean)\n",
    "print(\"No_of_Fly_Members Variance :\", no_of_fly_members_varience)"
   ]
  },
  {
   "cell_type": "markdown",
   "metadata": {},
   "source": [
    "### Using Inbuilt Function/Library"
   ]
  },
  {
   "cell_type": "code",
   "execution_count": 4,
   "metadata": {},
   "outputs": [
    {
     "name": "stdout",
     "output_type": "stream",
     "text": [
      "Mthly_HH_Income Variance : 681100853.0612245\n",
      "Mthly_HH_Expense Variance : 146173342.85714287\n",
      "No_of_Fly_Members Variance : 2.3024489795918366\n"
     ]
    }
   ],
   "source": [
    "from statistics import variance\n",
    "\n",
    "print(\"Mthly_HH_Income Variance :\", variance(data['Mthly_HH_Income']))\n",
    "print(\"Mthly_HH_Expense Variance :\", variance(data['Mthly_HH_Expense']))\n",
    "print(\"No_of_Fly_Members Variance :\", variance(data['No_of_Fly_Members']))"
   ]
  },
  {
   "cell_type": "markdown",
   "metadata": {},
   "source": [
    "## Standard Deviation -- -- -- -- -- -- -- -- -- -- -- -- -- -- -- -- -- -- -- -- -- -- -- -- -- -- -- -- -- -- -- -- -- -- -- -- "
   ]
  },
  {
   "cell_type": "markdown",
   "metadata": {},
   "source": [
    "### Without Using Inbuilt Function/Library"
   ]
  },
  {
   "cell_type": "code",
   "execution_count": 5,
   "metadata": {},
   "outputs": [
    {
     "name": "stdout",
     "output_type": "stream",
     "text": [
      "Mthly_HH_Income Standard Deviation : 25835.611779092826\n",
      "Mthly_HH_Expense Standard Deviation : 11968.704023410388\n",
      "No_of_Fly_Members Standard Deviation : 1.502131818450032\n"
     ]
    }
   ],
   "source": [
    "print(\"Mthly_HH_Income Standard Deviation :\", mthly_income_varience**0.5)\n",
    "print(\"Mthly_HH_Expense Standard Deviation :\", mthly_expense_varience**0.5)\n",
    "print(\"No_of_Fly_Members Standard Deviation :\", no_of_fly_members_varience**0.5)"
   ]
  },
  {
   "cell_type": "markdown",
   "metadata": {},
   "source": [
    "### Using Inbuilt Functions/Library"
   ]
  },
  {
   "cell_type": "code",
   "execution_count": 6,
   "metadata": {},
   "outputs": [
    {
     "name": "stdout",
     "output_type": "stream",
     "text": [
      "Mthly_HH_Income Standard Deviation : 26097.908978713687\n",
      "Mthly_HH_Expense Standard Deviation : 12090.216824240286\n",
      "No_of_Fly_Members Standard Deviation : 1.5173822786601392\n"
     ]
    }
   ],
   "source": [
    "from statistics import stdev\n",
    "\n",
    "print(\"Mthly_HH_Income Standard Deviation :\", stdev(data['Mthly_HH_Income']))\n",
    "print(\"Mthly_HH_Expense Standard Deviation :\", stdev(data['Mthly_HH_Expense']))\n",
    "print(\"No_of_Fly_Members Standard Deviation :\", stdev(data['No_of_Fly_Members']))"
   ]
  },
  {
   "cell_type": "markdown",
   "metadata": {},
   "source": [
    "## Correlation -- -- -- -- -- -- -- -- -- -- -- -- -- -- -- -- -- -- -- -- -- -- -- -- -- -- -- -- -- -- -- -- -- -- -- -- -- -- -- -- "
   ]
  },
  {
   "cell_type": "markdown",
   "metadata": {},
   "source": [
    "### Without Using Inbuilt Function/Library"
   ]
  },
  {
   "cell_type": "code",
   "execution_count": 18,
   "metadata": {},
   "outputs": [
    {
     "name": "stdout",
     "output_type": "stream",
     "text": [
      "Covarinace Between mthly_income and mthly_expense : 200749556.0\n",
      "Correlation Between mthly_income and mthly_expense : 0.6492152549316462\n"
     ]
    }
   ],
   "source": [
    "#Calculate the mean\n",
    "def means(numbers):\n",
    "    return sum(numbers)/len(numbers)\n",
    "\n",
    "mthly_income_mean = means(data['Mthly_HH_Income'])\n",
    "\n",
    "mthly_expense_mean = means(data['Mthly_HH_Expense'])\n",
    "\n",
    "\n",
    "# Calculate Covarince\n",
    "def my_covariance(column1, column2):\n",
    "    add = 0\n",
    "    for i in range(len(column1)):\n",
    "        add += ((column1[i] - mthly_income_mean) * (column2[i] - mthly_expense_mean))\n",
    "    return add/(len(column1))\n",
    "\n",
    "covariance = my_covariance(data['Mthly_HH_Income'], data['Mthly_HH_Expense'])\n",
    "print(\"Covarinace Between mthly_income and mthly_expense :\", covariance)\n",
    "\n",
    "\n",
    "# Calculate Standard Deviation\n",
    "mthly_income_standard_deviation = mthly_income_varience**0.5\n",
    "mthly_expense_standard_deviation = mthly_expense_varience**0.5\n",
    "\n",
    "\n",
    "# Calculate Pearson's Correlation\n",
    "def pearson_correlation_coefficient(covariance, std_column1, std_column2):\n",
    "    return covariance / (std_column1*std_column2)\n",
    "\n",
    "correlation = pearson_correlation_coefficient(covariance, mthly_income_standard_deviation, mthly_expense_standard_deviation)\n",
    "print(\"Correlation Between mthly_income and mthly_expense :\", correlation)"
   ]
  },
  {
   "cell_type": "markdown",
   "metadata": {},
   "source": [
    "### Using Inbuilt Function/Library"
   ]
  },
  {
   "cell_type": "code",
   "execution_count": 17,
   "metadata": {},
   "outputs": [
    {
     "name": "stdout",
     "output_type": "stream",
     "text": [
      "Correlation Between mthly_income and mthly_expense : 0.6492152549316461\n"
     ]
    }
   ],
   "source": [
    "from scipy.stats import pearsonr\n",
    "\n",
    "corr, p_value = pearsonr(data['Mthly_HH_Income'], data['Mthly_HH_Expense'])\n",
    "print(\"Correlation Between mthly_income and mthly_expense :\", corr)"
   ]
  }
 ],
 "metadata": {
  "kernelspec": {
   "display_name": "Python 3",
   "language": "python",
   "name": "python3"
  },
  "language_info": {
   "codemirror_mode": {
    "name": "ipython",
    "version": 3
   },
   "file_extension": ".py",
   "mimetype": "text/x-python",
   "name": "python",
   "nbconvert_exporter": "python",
   "pygments_lexer": "ipython3",
   "version": "3.8.5"
  }
 },
 "nbformat": 4,
 "nbformat_minor": 4
}
