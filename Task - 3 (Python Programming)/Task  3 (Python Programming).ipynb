{
 "cells": [
  {
   "cell_type": "code",
   "execution_count": 2,
   "metadata": {},
   "outputs": [
    {
     "name": "stdout",
     "output_type": "stream",
     "text": [
      "1+2j\n",
      "2.23606797749979\n",
      "1.1071487177940904\n"
     ]
    }
   ],
   "source": [
    "# Question 1 - Polar Coordinates\n",
    "\n",
    "import cmath\n",
    "\n",
    "equation = input().strip()\n",
    "r = abs(complex(equation))\n",
    "phs = cmath.phase(complex(equation))\n",
    "print (\"{0}\\n{1}\".format(r,phs))"
   ]
  },
  {
   "cell_type": "code",
   "execution_count": 3,
   "metadata": {},
   "outputs": [
    {
     "name": "stdout",
     "output_type": "stream",
     "text": [
      "10\n",
      "12\n",
      "40°\n"
     ]
    }
   ],
   "source": [
    "# Question 2 - Find Angle MBC\n",
    "\n",
    "import math\n",
    "AB = int(input())\n",
    "BC = int(input())\n",
    "hype = math.hypot(AB,BC)                      \n",
    "res = round(math.degrees(math.acos(BC/hype))) \n",
    "degree = chr(176)                                \n",
    "print(res,degree, sep='')"
   ]
  },
  {
   "cell_type": "code",
   "execution_count": 1,
   "metadata": {},
   "outputs": [
    {
     "name": "stdout",
     "output_type": "stream",
     "text": [
      "5\n",
      "1\n",
      "121\n",
      "12321\n",
      "1234321\n",
      "123454321\n"
     ]
    }
   ],
   "source": [
    "# Question 3 - Triangle Quest 2\n",
    "\n",
    "for i in range(1,int(input())+1):\n",
    "    print(((10**i - 1)//9)**2)"
   ]
  },
  {
   "cell_type": "code",
   "execution_count": 2,
   "metadata": {},
   "outputs": [
    {
     "name": "stdout",
     "output_type": "stream",
     "text": [
      "10\n",
      "3\n",
      "3\n",
      "1\n",
      "(3, 1)\n"
     ]
    }
   ],
   "source": [
    "# Question 4 - Mod Divmod\n",
    "\n",
    "a = int(input())\n",
    "b = int(input())\n",
    "\n",
    "print(a//b)\n",
    "print(a%b)\n",
    "print(divmod(a,b))"
   ]
  },
  {
   "cell_type": "code",
   "execution_count": 3,
   "metadata": {},
   "outputs": [
    {
     "name": "stdout",
     "output_type": "stream",
     "text": [
      "3 \n",
      "2 \n",
      "5\n",
      "9\n",
      "4\n"
     ]
    }
   ],
   "source": [
    "# Question 5 - Power - Mod Power\n",
    "\n",
    "import math\n",
    "\n",
    "a = int(input())\n",
    "b = int(input())\n",
    "m = int(input())\n",
    "\n",
    "print(int(math.pow(a,b)))\n",
    "print(int(math.pow(a,b)%m))"
   ]
  },
  {
   "cell_type": "code",
   "execution_count": 4,
   "metadata": {},
   "outputs": [
    {
     "name": "stdout",
     "output_type": "stream",
     "text": [
      "3\n",
      "51\n",
      "3\n",
      "41\n",
      "2153730436071934937097150\n"
     ]
    }
   ],
   "source": [
    "# Question 6 - Integers Come In All Sizes\n",
    "\n",
    "import math\n",
    "a, b, c, d = int(input()), int(input()), int(input()), int(input())\n",
    "result = (a**b)+ (c**d)\n",
    "print(result)"
   ]
  },
  {
   "cell_type": "code",
   "execution_count": 5,
   "metadata": {},
   "outputs": [
    {
     "name": "stdout",
     "output_type": "stream",
     "text": [
      "6\n",
      "1\n",
      "22\n",
      "333\n",
      "4444\n",
      "55555\n"
     ]
    }
   ],
   "source": [
    "# Question 7 - Triangle Quest\n",
    "\n",
    "for i in range(1,int(input())):\n",
    "    print(int(((10**i - 1)/9)*i))"
   ]
  },
  {
   "cell_type": "code",
   "execution_count": null,
   "metadata": {},
   "outputs": [],
   "source": []
  }
 ],
 "metadata": {
  "kernelspec": {
   "display_name": "Python 3",
   "language": "python",
   "name": "python3"
  },
  "language_info": {
   "codemirror_mode": {
    "name": "ipython",
    "version": 3
   },
   "file_extension": ".py",
   "mimetype": "text/x-python",
   "name": "python",
   "nbconvert_exporter": "python",
   "pygments_lexer": "ipython3",
   "version": "3.8.5"
  }
 },
 "nbformat": 4,
 "nbformat_minor": 4
}
