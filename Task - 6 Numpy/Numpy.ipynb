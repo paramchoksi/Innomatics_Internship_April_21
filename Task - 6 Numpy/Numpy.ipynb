{
 "cells": [
  {
   "cell_type": "code",
   "execution_count": 1,
   "metadata": {},
   "outputs": [
    {
     "name": "stdout",
     "output_type": "stream",
     "text": [
      "3 5 2 10 -4 20\n",
      "[20. -4. 10.  2.  5.  3.]\n"
     ]
    }
   ],
   "source": [
    "# Question 1 - Arrays\n",
    "\n",
    "import numpy\n",
    "\n",
    "def arrays(arr):\n",
    "    rev_arr = arr[::-1]\n",
    "    ndarray = numpy.array(rev_arr, float)\n",
    "    \n",
    "    return ndarray\n",
    "    \n",
    "\n",
    "arr = input().strip().split(' ')\n",
    "result = arrays(arr)\n",
    "print(result)"
   ]
  },
  {
   "cell_type": "code",
   "execution_count": 5,
   "metadata": {},
   "outputs": [
    {
     "name": "stdout",
     "output_type": "stream",
     "text": [
      "2 1 4 3 5 7 6 8 9 0\n",
      "[[2 1 4]\n",
      " [3 5 7]\n",
      " [6 8 9]]\n"
     ]
    }
   ],
   "source": [
    "# Question 2 - Shape and Reshape\n",
    "\n",
    "import numpy\n",
    "\n",
    "range = 9\n",
    "lst = list(map(int, input().split(' ')))[:range]\n",
    "arr = numpy.array(lst)\n",
    "changed_array = arr.reshape(3,3)\n",
    "print(changed_array)"
   ]
  },
  {
   "cell_type": "code",
   "execution_count": 1,
   "metadata": {},
   "outputs": [
    {
     "name": "stdout",
     "output_type": "stream",
     "text": [
      "2 2\n",
      "1 2 \n",
      "3 4\n",
      "[[1 3]\n",
      " [2 4]]\n",
      "[1 2 3 4]\n"
     ]
    }
   ],
   "source": [
    "# Question 3 - Transpose and Flatten\n",
    "\n",
    "import numpy\n",
    "\n",
    "row, column = map(int, input().split())\n",
    "array = numpy.array([input().split() for _ in range(row)], int)\n",
    "print (array.transpose())\n",
    "print (array.flatten())"
   ]
  },
  {
   "cell_type": "code",
   "execution_count": 2,
   "metadata": {},
   "outputs": [
    {
     "name": "stdout",
     "output_type": "stream",
     "text": [
      "3 3 3 \n",
      "1 1 1 \n",
      "2 3 4 \n",
      "2 3 1\n",
      "2 3 4\n",
      "2 3 1\n",
      "2 4 5\n",
      "[[1 1 1]\n",
      " [2 3 4]\n",
      " [2 3 1]\n",
      " [2 3 4]\n",
      " [2 3 1]\n",
      " [2 4 5]]\n"
     ]
    }
   ],
   "source": [
    "# Question 4 - Concatenate\n",
    "\n",
    "import numpy\n",
    "\n",
    "n, m, p = map(int, input().split())\n",
    "\n",
    "array1 = numpy.array([input().split() for _ in range(n)], int)\n",
    "array2 = numpy.array([input().split() for _ in range(m)], int)\n",
    "\n",
    "print(numpy.concatenate((array1, array2)))\n"
   ]
  },
  {
   "cell_type": "code",
   "execution_count": 25,
   "metadata": {},
   "outputs": [
    {
     "name": "stdout",
     "output_type": "stream",
     "text": [
      "2 2 3\n",
      "[[[0 0 0]\n",
      "  [0 0 0]]\n",
      "\n",
      " [[0 0 0]\n",
      "  [0 0 0]]]\n",
      "[[[1 1 1]\n",
      "  [1 1 1]]\n",
      "\n",
      " [[1 1 1]\n",
      "  [1 1 1]]]\n"
     ]
    }
   ],
   "source": [
    "# Question 5 - Zeros and Ones\n",
    "\n",
    "import numpy\n",
    "\n",
    "size = tuple(map(int, input().split()))\n",
    "\n",
    "print(numpy.zeros(size, dtype=numpy.int))\n",
    "print(numpy.ones(size, dtype=numpy.int))\n"
   ]
  },
  {
   "cell_type": "code",
   "execution_count": 3,
   "metadata": {},
   "outputs": [
    {
     "name": "stdout",
     "output_type": "stream",
     "text": [
      "8 7\n",
      "[[ 1.  0.  0.  0.  0.  0.  0.]\n",
      " [ 0.  1.  0.  0.  0.  0.  0.]\n",
      " [ 0.  0.  1.  0.  0.  0.  0.]\n",
      " [ 0.  0.  0.  1.  0.  0.  0.]\n",
      " [ 0.  0.  0.  0.  1.  0.  0.]\n",
      " [ 0.  0.  0.  0.  0.  1.  0.]\n",
      " [ 0.  0.  0.  0.  0.  0.  1.]\n",
      " [ 0.  0.  0.  0.  0.  0.  0.]]\n"
     ]
    }
   ],
   "source": [
    "# Question 6 - Eye and Identity\n",
    "\n",
    "import numpy\n",
    "numpy.set_printoptions(legacy='1.13')\n",
    "\n",
    "n,m = map(int, input().split())\n",
    "\n",
    "print(numpy.eye(n, m, k=0))"
   ]
  },
  {
   "cell_type": "code",
   "execution_count": 5,
   "metadata": {},
   "outputs": [
    {
     "name": "stdout",
     "output_type": "stream",
     "text": [
      "1 4\n",
      "1 2 3 4\n",
      "5 6 7 8\n",
      "[[ 6  8 10 12]]\n",
      "[[-4 -4 -4 -4]]\n",
      "[[ 5 12 21 32]]\n",
      "[[0 0 0 0]]\n",
      "[[1 2 3 4]]\n",
      "[[    1    64  2187 65536]]\n"
     ]
    }
   ],
   "source": [
    "# Question 7 - Array Mathematics\n",
    "\n",
    "import numpy as np\n",
    "n, m = map(int, input().split())\n",
    "a,b = (np.array([input().split() for _ in range(n)], dtype=int) for _ in range(2))\n",
    "print(a+b, a-b, a*b, a//b, a%b, a**b, sep='\\n')"
   ]
  },
  {
   "cell_type": "code",
   "execution_count": 6,
   "metadata": {},
   "outputs": [
    {
     "name": "stdout",
     "output_type": "stream",
     "text": [
      "1.1 2.3 3.1 5.6 4.7 8.2 9.0 1.9\n",
      "[ 1.  2.  3.  5.  4.  8.  9.  1.]\n",
      "[ 2.  3.  4.  6.  5.  9.  9.  2.]\n",
      "[ 1.  2.  3.  6.  5.  8.  9.  2.]\n"
     ]
    }
   ],
   "source": [
    "# Question 8 - Floor, Ceil and Rint\n",
    "\n",
    "import numpy\n",
    "numpy.set_printoptions(legacy='1.13')\n",
    "\n",
    "arr = numpy.array(list(map(float, input().split())))\n",
    "\n",
    "print(numpy.floor(arr))\n",
    "print(numpy.ceil(arr))\n",
    "print(numpy.rint(arr))"
   ]
  },
  {
   "cell_type": "code",
   "execution_count": 7,
   "metadata": {},
   "outputs": [
    {
     "name": "stdout",
     "output_type": "stream",
     "text": [
      "2 2\n",
      "1 2\n",
      "3 4\n",
      "24\n"
     ]
    }
   ],
   "source": [
    "# Question 9 - Sum and Prod\n",
    "\n",
    "import numpy\n",
    "N, M = map(int, input().split())\n",
    "A = numpy.array([input().split() for _ in range(N)],int)\n",
    "print(numpy.prod(numpy.sum(A, axis=0), axis=0))"
   ]
  },
  {
   "cell_type": "code",
   "execution_count": 8,
   "metadata": {},
   "outputs": [
    {
     "name": "stdout",
     "output_type": "stream",
     "text": [
      "3 2\n",
      "2 1\n",
      "4 6\n",
      "3 7\n",
      "4\n"
     ]
    }
   ],
   "source": [
    "# Question 10 - Min and Max\n",
    "\n",
    "import numpy as np\n",
    "\n",
    "n, m = list(map(int, (input().split())))\n",
    "a = np.array([list(map(int,(input().split()))) for i in range(int(n))])\n",
    "\n",
    "print(np.max(np.min(a, axis = 1), axis = None))"
   ]
  },
  {
   "cell_type": "code",
   "execution_count": 9,
   "metadata": {},
   "outputs": [
    {
     "name": "stdout",
     "output_type": "stream",
     "text": [
      "2 2\n",
      "1 2\n",
      "3 4\n",
      "[ 1.5  3.5]\n",
      "[ 1.  1.]\n",
      "1.11803398875\n"
     ]
    }
   ],
   "source": [
    "# Question 11 - Mean, Var, and Std\n",
    "\n",
    "import numpy\n",
    "\n",
    "N, M = map(int, input().strip().split())\n",
    "\n",
    "my_array = numpy.array([ input().strip().split() for _ in range(N) ], int)\n",
    "\n",
    "print(numpy.mean(my_array, axis = 1))\n",
    "print(numpy.var(my_array, axis = 0))\n",
    "print(round(numpy.std(my_array, axis = None),11))"
   ]
  },
  {
   "cell_type": "code",
   "execution_count": 10,
   "metadata": {},
   "outputs": [
    {
     "name": "stdout",
     "output_type": "stream",
     "text": [
      "2\n",
      "1 2\n",
      "3 4\n",
      "5 6\n",
      "7 8\n",
      "[[19 22]\n",
      " [43 50]]\n"
     ]
    }
   ],
   "source": [
    "# Question 12 - Dot and Cross\n",
    "\n",
    "import numpy\n",
    "\n",
    "n=int(input())\n",
    "\n",
    "arr1,arr2=[(numpy.array([list(map(int,input().split())) for _ in range(n)])) for _ in range(2)]\n",
    "\n",
    "print (numpy.dot(arr1,arr2))"
   ]
  },
  {
   "cell_type": "code",
   "execution_count": 1,
   "metadata": {},
   "outputs": [
    {
     "name": "stdout",
     "output_type": "stream",
     "text": [
      "0 1\n",
      "2 3\n",
      "3\n",
      "[[0 0]\n",
      " [2 3]]\n"
     ]
    }
   ],
   "source": [
    "# Question 13 - Inner and Outer\n",
    "\n",
    "import numpy\n",
    "\n",
    "A = numpy.array(list(map(int, input().split())))\n",
    "B = numpy.array(list(map(int, input().split())))\n",
    "\n",
    "print(numpy.inner(A, B))\n",
    "print(numpy.outer(A, B))"
   ]
  },
  {
   "cell_type": "code",
   "execution_count": 2,
   "metadata": {},
   "outputs": [
    {
     "name": "stdout",
     "output_type": "stream",
     "text": [
      "1.1 3 4 6\n",
      "3\n",
      "74.7\n"
     ]
    }
   ],
   "source": [
    "# Question 14 - Polynomials\n",
    "\n",
    "import numpy\n",
    "\n",
    "print(numpy.polyval(list(map(float,input().split())),float(input())))"
   ]
  },
  {
   "cell_type": "code",
   "execution_count": 3,
   "metadata": {},
   "outputs": [
    {
     "name": "stdout",
     "output_type": "stream",
     "text": [
      "2\n",
      "1.1 1.1\n",
      "2.2 2.2\n",
      "0.0\n"
     ]
    }
   ],
   "source": [
    "# Question 15 - Linear Algebra\n",
    "\n",
    "import numpy\n",
    "\n",
    "print(round(numpy.linalg.det(numpy.array([list(map(float,input().split())) \n",
    "        for _ in range(int(input()))])),2))"
   ]
  },
  {
   "cell_type": "code",
   "execution_count": null,
   "metadata": {},
   "outputs": [],
   "source": []
  }
 ],
 "metadata": {
  "kernelspec": {
   "display_name": "Python 3",
   "language": "python",
   "name": "python3"
  },
  "language_info": {
   "codemirror_mode": {
    "name": "ipython",
    "version": 3
   },
   "file_extension": ".py",
   "mimetype": "text/x-python",
   "name": "python",
   "nbconvert_exporter": "python",
   "pygments_lexer": "ipython3",
   "version": "3.8.5"
  }
 },
 "nbformat": 4,
 "nbformat_minor": 4
}
