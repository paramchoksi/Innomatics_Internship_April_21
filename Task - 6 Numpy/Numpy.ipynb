{
 "cells": [
  {
   "cell_type": "code",
   "execution_count": 1,
   "metadata": {},
   "outputs": [
    {
     "name": "stdout",
     "output_type": "stream",
     "text": [
      "3 5 2 10 -4 20\n",
      "[20. -4. 10.  2.  5.  3.]\n"
     ]
    }
   ],
   "source": [
    "# Question 1 - Arrays\n",
    "\n",
    "import numpy\n",
    "\n",
    "def arrays(arr):\n",
    "    rev_arr = arr[::-1]\n",
    "    ndarray = numpy.array(rev_arr, float)\n",
    "    \n",
    "    return ndarray\n",
    "    \n",
    "\n",
    "arr = input().strip().split(' ')\n",
    "result = arrays(arr)\n",
    "print(result)"
   ]
  },
  {
   "cell_type": "code",
   "execution_count": 5,
   "metadata": {},
   "outputs": [
    {
     "name": "stdout",
     "output_type": "stream",
     "text": [
      "2 1 4 3 5 7 6 8 9 0\n",
      "[[2 1 4]\n",
      " [3 5 7]\n",
      " [6 8 9]]\n"
     ]
    }
   ],
   "source": [
    "# Question 2 - Shape and Reshape\n",
    "\n",
    "import numpy\n",
    "\n",
    "range = 9\n",
    "lst = list(map(int, input().split(' ')))[:range]\n",
    "arr = numpy.array(lst)\n",
    "changed_array = arr.reshape(3,3)\n",
    "print(changed_array)"
   ]
  },
  {
   "cell_type": "code",
   "execution_count": 1,
   "metadata": {},
   "outputs": [
    {
     "name": "stdout",
     "output_type": "stream",
     "text": [
      "2 2\n",
      "1 2 \n",
      "3 4\n",
      "[[1 3]\n",
      " [2 4]]\n",
      "[1 2 3 4]\n"
     ]
    }
   ],
   "source": [
    "# Question 3 - Transpose and Flatten\n",
    "\n",
    "import numpy\n",
    "\n",
    "row, column = map(int, input().split())\n",
    "array = numpy.array([input().split() for _ in range(row)], int)\n",
    "print (array.transpose())\n",
    "print (array.flatten())"
   ]
  },
  {
   "cell_type": "code",
   "execution_count": 2,
   "metadata": {},
   "outputs": [
    {
     "name": "stdout",
     "output_type": "stream",
     "text": [
      "3 3 3 \n",
      "1 1 1 \n",
      "2 3 4 \n",
      "2 3 1\n",
      "2 3 4\n",
      "2 3 1\n",
      "2 4 5\n",
      "[[1 1 1]\n",
      " [2 3 4]\n",
      " [2 3 1]\n",
      " [2 3 4]\n",
      " [2 3 1]\n",
      " [2 4 5]]\n"
     ]
    }
   ],
   "source": [
    "# Question 4 - Concatenate\n",
    "\n",
    "import numpy\n",
    "\n",
    "n, m, p = map(int, input().split())\n",
    "\n",
    "array1 = numpy.array([input().split() for _ in range(n)], int)\n",
    "array2 = numpy.array([input().split() for _ in range(m)], int)\n",
    "\n",
    "print(numpy.concatenate((array1, array2)))\n"
   ]
  },
  {
   "cell_type": "code",
   "execution_count": 25,
   "metadata": {},
   "outputs": [
    {
     "name": "stdout",
     "output_type": "stream",
     "text": [
      "2 2 3\n",
      "[[[0 0 0]\n",
      "  [0 0 0]]\n",
      "\n",
      " [[0 0 0]\n",
      "  [0 0 0]]]\n",
      "[[[1 1 1]\n",
      "  [1 1 1]]\n",
      "\n",
      " [[1 1 1]\n",
      "  [1 1 1]]]\n"
     ]
    }
   ],
   "source": [
    "# Question 5 - Zeros and Ones\n",
    "\n",
    "import numpy\n",
    "\n",
    "size = tuple(map(int, input().split()))\n",
    "\n",
    "print(numpy.zeros(size, dtype=numpy.int))\n",
    "print(numpy.ones(size, dtype=numpy.int))\n"
   ]
  },
  {
   "cell_type": "code",
   "execution_count": 3,
   "metadata": {},
   "outputs": [
    {
     "name": "stdout",
     "output_type": "stream",
     "text": [
      "8 7\n",
      "[[ 1.  0.  0.  0.  0.  0.  0.]\n",
      " [ 0.  1.  0.  0.  0.  0.  0.]\n",
      " [ 0.  0.  1.  0.  0.  0.  0.]\n",
      " [ 0.  0.  0.  1.  0.  0.  0.]\n",
      " [ 0.  0.  0.  0.  1.  0.  0.]\n",
      " [ 0.  0.  0.  0.  0.  1.  0.]\n",
      " [ 0.  0.  0.  0.  0.  0.  1.]\n",
      " [ 0.  0.  0.  0.  0.  0.  0.]]\n"
     ]
    }
   ],
   "source": [
    "# Question 6 - Eye and Identity\n",
    "\n",
    "import numpy\n",
    "numpy.set_printoptions(legacy='1.13')\n",
    "\n",
    "n,m = map(int, input().split())\n",
    "\n",
    "print(numpy.eye(n, m, k=0))"
   ]
  },
  {
   "cell_type": "code",
   "execution_count": 5,
   "metadata": {},
   "outputs": [
    {
     "name": "stdout",
     "output_type": "stream",
     "text": [
      "1 4\n",
      "1 2 3 4\n",
      "5 6 7 8\n",
      "[[ 6  8 10 12]]\n",
      "[[-4 -4 -4 -4]]\n",
      "[[ 5 12 21 32]]\n",
      "[[0 0 0 0]]\n",
      "[[1 2 3 4]]\n",
      "[[    1    64  2187 65536]]\n"
     ]
    }
   ],
   "source": [
    "# Question 7 - Array Mathematics\n",
    "\n",
    "import numpy as np\n",
    "n, m = map(int, input().split())\n",
    "a,b = (np.array([input().split() for _ in range(n)], dtype=int) for _ in range(2))\n",
    "print(a+b, a-b, a*b, a//b, a%b, a**b, sep='\\n')"
   ]
  },
  {
   "cell_type": "code",
   "execution_count": 6,
   "metadata": {},
   "outputs": [
    {
     "name": "stdout",
     "output_type": "stream",
     "text": [
      "1.1 2.3 3.1 5.6 4.7 8.2 9.0 1.9\n",
      "[ 1.  2.  3.  5.  4.  8.  9.  1.]\n",
      "[ 2.  3.  4.  6.  5.  9.  9.  2.]\n",
      "[ 1.  2.  3.  6.  5.  8.  9.  2.]\n"
     ]
    }
   ],
   "source": [
    "# Question 8 - Floor, Ceil and Rint\n",
    "\n",
    "import numpy\n",
    "numpy.set_printoptions(legacy='1.13')\n",
    "\n",
    "arr = numpy.array(list(map(float, input().split())))\n",
    "\n",
    "print(numpy.floor(arr))\n",
    "print(numpy.ceil(arr))\n",
    "print(numpy.rint(arr))"
   ]
  },
  {
   "cell_type": "code",
   "execution_count": 7,
   "metadata": {},
   "outputs": [
    {
     "name": "stdout",
     "output_type": "stream",
     "text": [
      "2 2\n",
      "1 2\n",
      "3 4\n",
      "24\n"
     ]
    }
   ],
   "source": [
    "# Question 9 - Sum and Prod\n",
    "\n",
    "import numpy\n",
    "N, M = map(int, input().split())\n",
    "A = numpy.array([input().split() for _ in range(N)],int)\n",
    "print(numpy.prod(numpy.sum(A, axis=0), axis=0))"
   ]
  },
  {
   "cell_type": "code",
   "execution_count": null,
   "metadata": {},
   "outputs": [],
   "source": []
  }
 ],
 "metadata": {
  "kernelspec": {
   "display_name": "Python 3",
   "language": "python",
   "name": "python3"
  },
  "language_info": {
   "codemirror_mode": {
    "name": "ipython",
    "version": 3
   },
   "file_extension": ".py",
   "mimetype": "text/x-python",
   "name": "python",
   "nbconvert_exporter": "python",
   "pygments_lexer": "ipython3",
   "version": "3.8.5"
  }
 },
 "nbformat": 4,
 "nbformat_minor": 4
}
