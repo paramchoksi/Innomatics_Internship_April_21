{
 "cells": [
  {
   "cell_type": "code",
   "execution_count": 3,
   "metadata": {},
   "outputs": [
    {
     "name": "stdout",
     "output_type": "stream",
     "text": [
      "1\n",
      "1\n",
      "1\n",
      "2\n",
      "[[0, 0, 0], [0, 0, 1], [0, 1, 0], [1, 0, 0], [1, 1, 1]]\n"
     ]
    }
   ],
   "source": [
    "# Question 1 - List Comprehensions\n",
    "\n",
    "if __name__ == '__main__':\n",
    "    x = int(input())\n",
    "    y = int(input())\n",
    "    z = int(input())\n",
    "    n = int(input())\n",
    "    lst = []\n",
    "    for i in range(x+1):\n",
    "        for j in range(y+1):\n",
    "            for k in range(z+1):\n",
    "                if i+j+k != n:\n",
    "                    lst.append([i,j,k])\n",
    "    \n",
    "    print(lst)"
   ]
  },
  {
   "cell_type": "code",
   "execution_count": 16,
   "metadata": {},
   "outputs": [
    {
     "name": "stdout",
     "output_type": "stream",
     "text": [
      "5\n",
      "2 3 4 5 5\n",
      "4\n"
     ]
    }
   ],
   "source": [
    "# Question 2 - Find the Runner-Up Score!\n",
    "\n",
    "if __name__ == '__main__':\n",
    "    n = int(input())\n",
    "    arr = map(int, input().split())\n",
    "\n",
    "    lst = list(arr)\n",
    "    lst.sort()\n",
    "    max_value = lst[-1]\n",
    "    runner_up = 0\n",
    "\n",
    "    for i in lst[::-1]:\n",
    "        if i < max_value:\n",
    "            runner_up = i\n",
    "            break\n",
    "        else:\n",
    "            continue\n",
    "\n",
    "    print(runner_up)"
   ]
  },
  {
   "cell_type": "code",
   "execution_count": 20,
   "metadata": {},
   "outputs": [
    {
     "name": "stdout",
     "output_type": "stream",
     "text": [
      "5\n",
      "param\n",
      "-50\n",
      "manan\n",
      "-50\n",
      "zeel\n",
      "51\n",
      "dhruv\n",
      "51\n",
      "nikhil\n",
      "51\n",
      "dhruv\n",
      "nikhil\n",
      "zeel\n"
     ]
    }
   ],
   "source": [
    "# Question 3 - Nested Lists\n",
    "\n",
    "if __name__ == '__main__':\n",
    "    students = []\n",
    "    for _ in range(int(input())):\n",
    "        name = input()\n",
    "        score = float(input())\n",
    "        students.append([name, score])\n",
    "    students.sort(key=lambda x: x[1])\n",
    "    name_lst = []\n",
    "    score_lst = []\n",
    "    final_lst = []\n",
    "\n",
    "    for sub_list in students:\n",
    "        for value in range(len(sub_list)):\n",
    "            if value == 0:\n",
    "                name_lst.append(sub_list[value])\n",
    "            else:\n",
    "                score_lst.append(sub_list[value])\n",
    "\n",
    "    min_value = score_lst[0]\n",
    "    max_value = score_lst[-1]\n",
    "    second_smallest_value = 0\n",
    "    for index in range(0, len(score_lst)):\n",
    "        if score_lst[index] > min_value:\n",
    "            second_smallest_value = score_lst[index]\n",
    "            break\n",
    "        else:\n",
    "            continue\n",
    "    \n",
    "    for index in range(0, len(score_lst)):\n",
    "        if score_lst[index] == second_smallest_value:\n",
    "            final_lst.append(name_lst[index])\n",
    "        else:\n",
    "            continue\n",
    "\n",
    "    final_lst.sort()\n",
    "    for value in final_lst:\n",
    "        print(value)"
   ]
  },
  {
   "cell_type": "code",
   "execution_count": 21,
   "metadata": {},
   "outputs": [
    {
     "name": "stdout",
     "output_type": "stream",
     "text": [
      "4\n",
      "param 20 30 40 10\n",
      "zeel 10 30 28 30\n",
      "manan\n",
      "dhruv 10 20 40\n",
      "dhruv\n",
      "23.33\n"
     ]
    }
   ],
   "source": [
    "# Question 4 - Finding the percentage\n",
    "\n",
    "if __name__ == '__main__':\n",
    "    n = int(input())\n",
    "    student_marks = {}\n",
    "    for _ in range(n):\n",
    "        name, *line = input().split()\n",
    "        scores = list(map(float, line))\n",
    "        student_marks[name] = scores\n",
    "    query_name = input()\n",
    "    \n",
    "    for key, values in student_marks.items():\n",
    "        if key == query_name:\n",
    "            addition = 0\n",
    "            count = 0\n",
    "            for value in values:\n",
    "                addition += value\n",
    "                count += 1\n",
    "            average = addition/count\n",
    "            print(\"%.2f\" % average)\n",
    "            break\n",
    "        else:\n",
    "            continue"
   ]
  },
  {
   "cell_type": "code",
   "execution_count": 1,
   "metadata": {},
   "outputs": [
    {
     "name": "stdout",
     "output_type": "stream",
     "text": [
      "10\n",
      "insert 0 5\n",
      "append 6\n",
      "insert 1 7\n",
      "print\n",
      "[5, 7, 6]\n",
      "sort\n",
      "reverse\n",
      "pop\n",
      "insert 1 8\n",
      "print\n",
      "[7, 8, 6]\n",
      "pop\n"
     ]
    }
   ],
   "source": [
    "# Question 5 - Lists\n",
    "\n",
    "def list_operation(N):\n",
    "    arr = []\n",
    "    for index in range(N):\n",
    "        i = input().split()\n",
    "        operation = i[0]\n",
    "        if operation == 'insert':\n",
    "            arr.insert(int(i[1]), int(i[2]))\n",
    "        \n",
    "        elif operation == 'print':\n",
    "            print(arr)\n",
    "        \n",
    "        elif operation == 'remove':\n",
    "            arr.remove(int(i[1]))\n",
    "            \n",
    "        elif operation == 'append':\n",
    "            arr.append(int(i[1]))\n",
    "            \n",
    "        elif operation == 'sort':\n",
    "            arr.sort()\n",
    "            \n",
    "        elif operation == 'pop':\n",
    "            arr.pop()\n",
    "        \n",
    "        elif operation == 'reverse':\n",
    "            arr.reverse()\n",
    "        \n",
    "        else:\n",
    "            continue\n",
    "\n",
    "if __name__ == '__main__':\n",
    "    N = int(input())\n",
    "    list_operation(N)"
   ]
  },
  {
   "cell_type": "code",
   "execution_count": 2,
   "metadata": {},
   "outputs": [
    {
     "name": "stdout",
     "output_type": "stream",
     "text": [
      "4\n",
      "1 3 5 4\n",
      "-8261716063355865036\n"
     ]
    }
   ],
   "source": [
    "# Question 6 - Tuples\n",
    "\n",
    "if __name__ == '__main__':\n",
    "    n = int(input())\n",
    "    integer_list = map(int, input().split())\n",
    "    \n",
    "    t = tuple(integer_list)\n",
    "    result = hash(t)\n",
    "    print(result)"
   ]
  },
  {
   "cell_type": "code",
   "execution_count": 3,
   "metadata": {},
   "outputs": [
    {
     "name": "stdout",
     "output_type": "stream",
     "text": [
      "10\n",
      "1 4 3 5 4 6 10 12 10 4\n",
      "5.857\n"
     ]
    }
   ],
   "source": [
    "# Question 7 - Introduction to Sets\n",
    "\n",
    "def average(array):\n",
    "    distinct_values = set(arr)\n",
    "    average = sum(distinct_values)/len(distinct_values)\n",
    "    rounded_average = \"%.3f\" % average\n",
    "    return rounded_average\n",
    "\n",
    "if __name__ == '__main__':\n",
    "    n = int(input())\n",
    "    arr = list(map(int, input().split()))\n",
    "    result = average(arr)\n",
    "    print(result)"
   ]
  },
  {
   "cell_type": "code",
   "execution_count": 4,
   "metadata": {},
   "outputs": [
    {
     "name": "stdout",
     "output_type": "stream",
     "text": [
      "6 2\n",
      "2 4 3 6 5 6\n",
      "2 1\n",
      "3 6\n",
      "-2\n"
     ]
    }
   ],
   "source": [
    "# Question 8 - No Idea!\n",
    "\n",
    "if __name__ == '__main__':\n",
    "\n",
    "    size_of_array, size_of_sets = map(int, input().split())\n",
    "    Array = list(map(int, input().split()[:size_of_array]))\n",
    "    positive_set = set(map(int, input().split()[:size_of_sets]))\n",
    "    negative_set = set(map(int, input().split()[:size_of_sets]))\n",
    "\n",
    "    happiness = 0\n",
    "    for i in Array:\n",
    "        if i in positive_set:\n",
    "            happiness += 1\n",
    "        elif i in negative_set:\n",
    "            happiness -= 1\n",
    "        else:\n",
    "            continue\n",
    "    print(happiness)"
   ]
  },
  {
   "cell_type": "code",
   "execution_count": 7,
   "metadata": {},
   "outputs": [
    {
     "name": "stdout",
     "output_type": "stream",
     "text": [
      "5\n",
      "2 4 3 1 5 6\n",
      "6\n",
      "6 3 1 7 9 3 \n",
      "2\n",
      "4\n",
      "5\n",
      "6\n",
      "7\n",
      "9\n"
     ]
    }
   ],
   "source": [
    "# Question 9 - Symmetric Difference\n",
    "\n",
    "def symmetric_difference(fs, ss):\n",
    "    dif_lst = []\n",
    "    dif1 = list(fs.difference(ss))\n",
    "    dif2 = list(ss.difference(fs))\n",
    "    for i in dif1:\n",
    "        dif_lst.append(i)\n",
    "    for j in dif2:\n",
    "        dif_lst.append(j)\n",
    "    dif_lst.sort()\n",
    "    for value in dif_lst:\n",
    "        print(value)\n",
    "\n",
    "\n",
    "if __name__ == '__main__':\n",
    "    \n",
    "    first_set_size = int(input())\n",
    "    first_set_values = set(map(int, input().split()[:first_set_size]))\n",
    "    second_set_size = int(input())\n",
    "    second_set_values = set(map(int, input().split()[:second_set_size]))\n",
    "    \n",
    "    symmetric_difference(first_set_values, second_set_values)"
   ]
  },
  {
   "cell_type": "code",
   "execution_count": 8,
   "metadata": {},
   "outputs": [
    {
     "name": "stdout",
     "output_type": "stream",
     "text": [
      "5\n",
      "India\n",
      "Japan\n",
      "Bangladesh\n",
      "India\n",
      "America\n",
      "4\n"
     ]
    }
   ],
   "source": [
    "# Question 10 - Set .add()\n",
    "\n",
    "if __name__ == '__main__':\n",
    "    \n",
    "    n = int(input())\n",
    "    country_set = set()\n",
    "    for i in range(n):\n",
    "        country_name = input()\n",
    "        country_set.add(country_name)\n",
    "    print(len(country_set))"
   ]
  },
  {
   "cell_type": "code",
   "execution_count": 9,
   "metadata": {},
   "outputs": [
    {
     "name": "stdout",
     "output_type": "stream",
     "text": [
      "7\n",
      "2 5 4 1 5 6 7\n",
      "6\n",
      "pop\n",
      "remove 4\n",
      "discard 6\n",
      "remove 5\n",
      "discard 4\n",
      "remove 7\n",
      "2\n"
     ]
    }
   ],
   "source": [
    "# Question 11 - Set .discard(), .remove() & .pop()\n",
    "\n",
    "if __name__ == '__main__':\n",
    "\n",
    "    set_size = int(input())\n",
    "    set_values = set(map(int, input().split()[:set_size]))\n",
    "    number_of_operation = int(input())\n",
    "\n",
    "    for index in range(number_of_operation):\n",
    "        i = input().split()\n",
    "        operation = i[0]\n",
    "\n",
    "        if operation == 'remove':\n",
    "            set_values.remove(int(i[1]))\n",
    "        elif operation == 'discard':\n",
    "            set_values.discard(int(i[1]))\n",
    "        elif operation == 'pop':\n",
    "            set_values.pop()\n",
    "\n",
    "    print(sum(set_values))"
   ]
  },
  {
   "cell_type": "code",
   "execution_count": 10,
   "metadata": {},
   "outputs": [
    {
     "name": "stdout",
     "output_type": "stream",
     "text": [
      "5\n",
      "1 4 3 5 6\n",
      "7\n",
      "3 2 5 7 8 6 1\n",
      "8\n"
     ]
    }
   ],
   "source": [
    "# Question 12 - Set .union() Operation\n",
    "\n",
    "if __name__ == '__main__':\n",
    "    \n",
    "    n = int(input())\n",
    "    n_values = set(map(int, input().split()[:n]))\n",
    "    m = int(input())\n",
    "    m_values = set(map(int, input().split()[:m]))\n",
    "    \n",
    "    result = n_values.union(m_values) # result = n_values | m_values\n",
    "    print(len(result))"
   ]
  },
  {
   "cell_type": "code",
   "execution_count": 11,
   "metadata": {},
   "outputs": [
    {
     "name": "stdout",
     "output_type": "stream",
     "text": [
      "5\n",
      "2 5 4 1 3 \n",
      "6\n",
      "3 2 6 5 7 8\n",
      "3\n"
     ]
    }
   ],
   "source": [
    "# Question 13 - Set .intersection() Operation\n",
    "\n",
    "if __name__ == '__main__':\n",
    "    \n",
    "    n = int(input())\n",
    "    n_values = set(map(int, input().split()[:n]))\n",
    "    m = int(input())\n",
    "    m_values = set(map(int, input().split()[:m]))\n",
    "    \n",
    "    result = n_values & m_values # result = n_values.intersection(m_values)\n",
    "    print(len(result))"
   ]
  },
  {
   "cell_type": "code",
   "execution_count": 12,
   "metadata": {},
   "outputs": [
    {
     "name": "stdout",
     "output_type": "stream",
     "text": [
      "5\n",
      "2 1 4 3 5 \n",
      "7\n",
      "4 3 6 7 8 5 1\n",
      "1\n"
     ]
    }
   ],
   "source": [
    "# Question 14 - Set .difference() Operation\n",
    "\n",
    "if __name__ == '__main__':\n",
    "    \n",
    "    n = int(input())\n",
    "    n_values = set(map(int, input().split()[:n]))\n",
    "    m = int(input())\n",
    "    m_values = set(map(int, input().split()[:m]))\n",
    "    \n",
    "    result = n_values - m_values\n",
    "    print(len(result))"
   ]
  },
  {
   "cell_type": "code",
   "execution_count": 13,
   "metadata": {},
   "outputs": [
    {
     "name": "stdout",
     "output_type": "stream",
     "text": [
      "6\n",
      "3 2 5 4 1 6 \n",
      "6\n",
      "3 6 5 7 8 9 \n",
      "6\n"
     ]
    }
   ],
   "source": [
    "# Question 15 - Set .symmetric_difference() Operation\n",
    "\n",
    "if __name__ == '__main__':\n",
    "    \n",
    "    n = int(input())\n",
    "    n_values = set(map(int, input().split()[:n]))\n",
    "    m = int(input())\n",
    "    m_values = set(map(int, input().split()[:m]))\n",
    "    \n",
    "    result = n_values.symmetric_difference(m_values)\n",
    "    print(len(result))"
   ]
  },
  {
   "cell_type": "code",
   "execution_count": 1,
   "metadata": {},
   "outputs": [
    {
     "name": "stdout",
     "output_type": "stream",
     "text": [
      "5\n",
      "2 4 3 5 6\n",
      "2\n",
      "update 3\n",
      "27 9 10\n",
      "intersection_update 5\n",
      "27 4 3 10 9\n",
      "53\n"
     ]
    }
   ],
   "source": [
    "# Question 16 - Set Mutations\n",
    "\n",
    "if __name__ == '__main__':\n",
    "    \n",
    "    size_A = int(input())\n",
    "    set_A = set(map(int , input().split()[:size_A]))\n",
    "    N = int(input())\n",
    "    \n",
    "    for index in range(N):\n",
    "        i = input().split()\n",
    "        operation = i[0]\n",
    "        size_B = int(i[1])\n",
    "        set_B = set(map(int, input().split()[:size_B]))\n",
    "        \n",
    "        if operation == 'intersection_update':\n",
    "            set_A.intersection_update(set_B)\n",
    "        \n",
    "        elif operation == 'update':\n",
    "            set_A.update(set_B)\n",
    "            \n",
    "        elif operation == 'symmetric_difference_update':\n",
    "            set_A.symmetric_difference_update(set_B)\n",
    "        \n",
    "        elif operation == 'difference_update':\n",
    "            set_A.difference_update(set_B)\n",
    "            \n",
    "        else:\n",
    "            continue\n",
    "        \n",
    "    print(sum(set_A))"
   ]
  },
  {
   "cell_type": "code",
   "execution_count": 2,
   "metadata": {},
   "outputs": [
    {
     "name": "stdout",
     "output_type": "stream",
     "text": [
      "5\n",
      "1 2 3 4 5 5 4 2 3 1 2 3 1 5 4 2 1 5 4 3 2 1 3 8 4 5 2 4 3 1 5 \n",
      "8\n"
     ]
    }
   ],
   "source": [
    "# Question 17 - The Captain's Room\n",
    "\n",
    "if __name__ == '__main__':\n",
    "    \n",
    "    A=input()\n",
    "    a=input().split()\n",
    "    s=set()\n",
    "    t=set()\n",
    "    for i in a:\n",
    "        if i not in s:\n",
    "            s.add(i)\n",
    "            t.add(i)\n",
    "        else:\n",
    "            t.discard(i)\n",
    "    print(t.pop())"
   ]
  },
  {
   "cell_type": "code",
   "execution_count": 3,
   "metadata": {},
   "outputs": [
    {
     "name": "stdout",
     "output_type": "stream",
     "text": [
      "2\n",
      "3\n",
      "2 4 5\n",
      "5\n",
      "2 4 3 1 5\n",
      "True\n",
      "4\n",
      "2 4 3 6\n",
      "6\n",
      "3 5 4 7 6 8\n",
      "False\n"
     ]
    }
   ],
   "source": [
    "# Question 18 - Check Subset\n",
    "\n",
    "if __name__ == '__main__':\n",
    "    \n",
    "    T = int(input())\n",
    "    \n",
    "    for i in range(T):\n",
    "        size_A = int(input())\n",
    "        A = set(map(int, input().split()[:size_A]))\n",
    "        size_B = int(input())\n",
    "        B = set(map(int, input().split()[:size_B]))\n",
    "        \n",
    "        if A.issubset(B):\n",
    "            print(\"True\")\n",
    "        else:\n",
    "            print(\"False\")"
   ]
  },
  {
   "cell_type": "code",
   "execution_count": 4,
   "metadata": {},
   "outputs": [
    {
     "name": "stdout",
     "output_type": "stream",
     "text": [
      "2 4 3 1 5 6 7 9 7\n",
      "2\n",
      "1 4 3 2 5\n",
      "6 7 8 0 9\n",
      "False\n"
     ]
    }
   ],
   "source": [
    "# Question 19 - Check Strict Superset\n",
    "\n",
    "if __name__ == '__main__':\n",
    "    \n",
    "    A = set(map(int, input().split()))\n",
    "    n = int(input())\n",
    "    count = 0\n",
    "    \n",
    "    for i in range(n):\n",
    "        if A.issuperset(set(map(int, input().split()))):\n",
    "            count += 1\n",
    "        else:\n",
    "            continue\n",
    "    print(count == n)"
   ]
  },
  {
   "cell_type": "code",
   "execution_count": null,
   "metadata": {},
   "outputs": [],
   "source": []
  }
 ],
 "metadata": {
  "kernelspec": {
   "display_name": "Python 3",
   "language": "python",
   "name": "python3"
  },
  "language_info": {
   "codemirror_mode": {
    "name": "ipython",
    "version": 3
   },
   "file_extension": ".py",
   "mimetype": "text/x-python",
   "name": "python",
   "nbconvert_exporter": "python",
   "pygments_lexer": "ipython3",
   "version": "3.8.5"
  }
 },
 "nbformat": 4,
 "nbformat_minor": 4
}
