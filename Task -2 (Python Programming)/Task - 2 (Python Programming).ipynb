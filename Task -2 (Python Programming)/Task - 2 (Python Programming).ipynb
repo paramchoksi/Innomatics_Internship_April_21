{
 "cells": [
  {
   "cell_type": "code",
   "execution_count": 3,
   "metadata": {},
   "outputs": [
    {
     "name": "stdout",
     "output_type": "stream",
     "text": [
      "1\n",
      "1\n",
      "1\n",
      "2\n",
      "[[0, 0, 0], [0, 0, 1], [0, 1, 0], [1, 0, 0], [1, 1, 1]]\n"
     ]
    }
   ],
   "source": [
    "# Question 1 - List Comprehensions\n",
    "\n",
    "if __name__ == '__main__':\n",
    "    x = int(input())\n",
    "    y = int(input())\n",
    "    z = int(input())\n",
    "    n = int(input())\n",
    "    lst = []\n",
    "    for i in range(x+1):\n",
    "        for j in range(y+1):\n",
    "            for k in range(z+1):\n",
    "                if i+j+k != n:\n",
    "                    lst.append([i,j,k])\n",
    "    \n",
    "    print(lst)"
   ]
  },
  {
   "cell_type": "code",
   "execution_count": 16,
   "metadata": {},
   "outputs": [
    {
     "name": "stdout",
     "output_type": "stream",
     "text": [
      "5\n",
      "2 3 4 5 5\n",
      "4\n"
     ]
    }
   ],
   "source": [
    "# Question 2 - Find the Runner-Up Score!\n",
    "\n",
    "if __name__ == '__main__':\n",
    "    n = int(input())\n",
    "    arr = map(int, input().split())\n",
    "\n",
    "    lst = list(arr)\n",
    "    lst.sort()\n",
    "    max_value = lst[-1]\n",
    "    runner_up = 0\n",
    "\n",
    "    for i in lst[::-1]:\n",
    "        if i < max_value:\n",
    "            runner_up = i\n",
    "            break\n",
    "        else:\n",
    "            continue\n",
    "\n",
    "    print(runner_up)"
   ]
  },
  {
   "cell_type": "code",
   "execution_count": 20,
   "metadata": {},
   "outputs": [
    {
     "name": "stdout",
     "output_type": "stream",
     "text": [
      "5\n",
      "param\n",
      "-50\n",
      "manan\n",
      "-50\n",
      "zeel\n",
      "51\n",
      "dhruv\n",
      "51\n",
      "nikhil\n",
      "51\n",
      "dhruv\n",
      "nikhil\n",
      "zeel\n"
     ]
    }
   ],
   "source": [
    "# Question 3 - Nested Lists\n",
    "\n",
    "if __name__ == '__main__':\n",
    "    students = []\n",
    "    for _ in range(int(input())):\n",
    "        name = input()\n",
    "        score = float(input())\n",
    "        students.append([name, score])\n",
    "    students.sort(key=lambda x: x[1])\n",
    "    name_lst = []\n",
    "    score_lst = []\n",
    "    final_lst = []\n",
    "\n",
    "    for sub_list in students:\n",
    "        for value in range(len(sub_list)):\n",
    "            if value == 0:\n",
    "                name_lst.append(sub_list[value])\n",
    "            else:\n",
    "                score_lst.append(sub_list[value])\n",
    "\n",
    "    min_value = score_lst[0]\n",
    "    max_value = score_lst[-1]\n",
    "    second_smallest_value = 0\n",
    "    for index in range(0, len(score_lst)):\n",
    "        if score_lst[index] > min_value:\n",
    "            second_smallest_value = score_lst[index]\n",
    "            break\n",
    "        else:\n",
    "            continue\n",
    "    \n",
    "    for index in range(0, len(score_lst)):\n",
    "        if score_lst[index] == second_smallest_value:\n",
    "            final_lst.append(name_lst[index])\n",
    "        else:\n",
    "            continue\n",
    "\n",
    "    final_lst.sort()\n",
    "    for value in final_lst:\n",
    "        print(value)"
   ]
  },
  {
   "cell_type": "code",
   "execution_count": 21,
   "metadata": {},
   "outputs": [
    {
     "name": "stdout",
     "output_type": "stream",
     "text": [
      "4\n",
      "param 20 30 40 10\n",
      "zeel 10 30 28 30\n",
      "manan\n",
      "dhruv 10 20 40\n",
      "dhruv\n",
      "23.33\n"
     ]
    }
   ],
   "source": [
    "# Question 4 - Finding the percentage\n",
    "\n",
    "if __name__ == '__main__':\n",
    "    n = int(input())\n",
    "    student_marks = {}\n",
    "    for _ in range(n):\n",
    "        name, *line = input().split()\n",
    "        scores = list(map(float, line))\n",
    "        student_marks[name] = scores\n",
    "    query_name = input()\n",
    "    \n",
    "    for key, values in student_marks.items():\n",
    "        if key == query_name:\n",
    "            addition = 0\n",
    "            count = 0\n",
    "            for value in values:\n",
    "                addition += value\n",
    "                count += 1\n",
    "            average = addition/count\n",
    "            print(\"%.2f\" % average)\n",
    "            break\n",
    "        else:\n",
    "            continue"
   ]
  }
 ],
 "metadata": {
  "kernelspec": {
   "display_name": "Python 3",
   "language": "python",
   "name": "python3"
  },
  "language_info": {
   "codemirror_mode": {
    "name": "ipython",
    "version": 3
   },
   "file_extension": ".py",
   "mimetype": "text/x-python",
   "name": "python",
   "nbconvert_exporter": "python",
   "pygments_lexer": "ipython3",
   "version": "3.8.5"
  }
 },
 "nbformat": 4,
 "nbformat_minor": 4
}
