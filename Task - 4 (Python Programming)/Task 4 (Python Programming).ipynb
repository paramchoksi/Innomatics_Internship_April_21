{
 "cells": [
  {
   "cell_type": "code",
   "execution_count": 1,
   "metadata": {},
   "outputs": [
    {
     "name": "stdout",
     "output_type": "stream",
     "text": [
      "hello param how are you\n",
      "hello-param-how-are-you\n"
     ]
    }
   ],
   "source": [
    "# Question 1 - String Split and Join\n",
    "\n",
    "def split_and_join(line):\n",
    "    line = line.split(\" \")\n",
    "    line = \"-\".join(line)\n",
    "    return line\n",
    "\n",
    "if __name__ == '__main__':\n",
    "    line = input()\n",
    "    result = split_and_join(line)\n",
    "    print(result)"
   ]
  },
  {
   "cell_type": "code",
   "execution_count": 2,
   "metadata": {},
   "outputs": [
    {
     "name": "stdout",
     "output_type": "stream",
     "text": [
      "param\n",
      "choksi\n",
      "Hello param choksi! You just delved into python.\n"
     ]
    }
   ],
   "source": [
    "# Question 2 - What's Your Name?\n",
    "\n",
    "def print_full_name(first, last):\n",
    "    print(\"Hello {0} {1}! You just delved into python.\".format(first, last))\n",
    "\n",
    "if __name__ == '__main__':\n",
    "    first_name = input()\n",
    "    last_name = input()\n",
    "    print_full_name(first_name, last_name)"
   ]
  },
  {
   "cell_type": "code",
   "execution_count": 3,
   "metadata": {},
   "outputs": [
    {
     "name": "stdout",
     "output_type": "stream",
     "text": [
      "abcdefghijk\n",
      "6 o\n",
      "abcdefohijk\n"
     ]
    }
   ],
   "source": [
    "# Question 3 - Mutations\n",
    "\n",
    "def mutate_string(string, position, character):\n",
    "    string = string[:position] + character + string[position+1:]\n",
    "    return string\n",
    "\n",
    "if __name__ == '__main__':\n",
    "    s = input()\n",
    "    i, c = input().split()\n",
    "    s_new = mutate_string(s, int(i), c)\n",
    "    print(s_new)"
   ]
  },
  {
   "cell_type": "code",
   "execution_count": 4,
   "metadata": {},
   "outputs": [
    {
     "name": "stdout",
     "output_type": "stream",
     "text": [
      "ABCDCDC\n",
      "CDC\n",
      "2\n"
     ]
    }
   ],
   "source": [
    "# Question 4 - Find a string\n",
    "\n",
    "def count_substring(string, sub_string):\n",
    "    count = 0\n",
    "    for i in range((len(string) + 1) - len(sub_string)):\n",
    "        for j in range(len(sub_string)):\n",
    "            if string[i+j] == sub_string[j]:\n",
    "                count += 1\n",
    "            else:\n",
    "                break\n",
    "    return count//len(sub_string)\n",
    "\n",
    "if __name__ == '__main__':\n",
    "    string = input().strip()\n",
    "    sub_string = input().strip()\n",
    "    \n",
    "    count = count_substring(string, sub_string)\n",
    "    print(count)"
   ]
  },
  {
   "cell_type": "code",
   "execution_count": 5,
   "metadata": {},
   "outputs": [
    {
     "name": "stdout",
     "output_type": "stream",
     "text": [
      "parAm22#\n",
      "True\n",
      "True\n",
      "True\n",
      "True\n",
      "True\n"
     ]
    }
   ],
   "source": [
    "# Question 5 - String Validators\n",
    "\n",
    "if __name__ == '__main__':\n",
    "    s = input()\n",
    "    \n",
    "    for i in range(len(s)):\n",
    "        if s[i].isalnum():\n",
    "            print(True)\n",
    "            break\n",
    "        elif i == len(s)-1:\n",
    "            print(False)\n",
    "            \n",
    "    for i in range(len(s)):\n",
    "        if s[i].isalpha():\n",
    "            print(True)\n",
    "            break\n",
    "        elif i == len(s)-1:\n",
    "            print(False)\n",
    "            \n",
    "    for i in range(len(s)):\n",
    "        if s[i].isdigit():\n",
    "            print(True)\n",
    "            break\n",
    "        elif i == len(s)-1:\n",
    "            print(False)\n",
    "            \n",
    "    for i in range(len(s)):\n",
    "        if s[i].islower():\n",
    "            print(True)\n",
    "            break\n",
    "        elif i == len(s)-1:\n",
    "            print(False)\n",
    "            \n",
    "    for i in range(len(s)):\n",
    "        if s[i].isupper():\n",
    "            print(True)\n",
    "            break\n",
    "        elif i == len(s)-1:\n",
    "            print(False)"
   ]
  },
  {
   "cell_type": "code",
   "execution_count": 6,
   "metadata": {},
   "outputs": [
    {
     "name": "stdout",
     "output_type": "stream",
     "text": [
      "3\n",
      "  H  \n",
      " HHH \n",
      "HHHHH\n",
      " HHH         HHH        \n",
      " HHH         HHH        \n",
      " HHH         HHH        \n",
      " HHH         HHH        \n",
      " HHHHHHHHHHHHHHH  \n",
      " HHHHHHHHHHHHHHH  \n",
      " HHH         HHH        \n",
      " HHH         HHH        \n",
      " HHH         HHH        \n",
      " HHH         HHH        \n",
      "            HHHHH \n",
      "             HHH  \n",
      "              H   \n"
     ]
    }
   ],
   "source": [
    "# Question 6 - Text Alignment\n",
    "\n",
    "thickness = int(input()) #This must be an odd number\n",
    "c = 'H'\n",
    "\n",
    "#Top Cone\n",
    "for i in range(thickness):\n",
    "    print((c*i).rjust(thickness-1)+c+(c*i).ljust(thickness-1))\n",
    "\n",
    "#Top Pillars\n",
    "for i in range(thickness+1):\n",
    "    print((c*thickness).center(thickness*2)+(c*thickness).center(thickness*6))\n",
    "\n",
    "#Middle Belt\n",
    "for i in range((thickness+1)//2):\n",
    "    print((c*thickness*5).center(thickness*6))    \n",
    "\n",
    "#Bottom Pillars\n",
    "for i in range(thickness+1):\n",
    "    print((c*thickness).center(thickness*2)+(c*thickness).center(thickness*6))    \n",
    "\n",
    "#Bottom Cone\n",
    "for i in range(thickness):\n",
    "    print(((c*(thickness-i-1)).rjust(thickness)+c+(c*(thickness-i-1)).ljust(thickness)).rjust(thickness*6))"
   ]
  },
  {
   "cell_type": "code",
   "execution_count": 1,
   "metadata": {},
   "outputs": [
    {
     "name": "stdout",
     "output_type": "stream",
     "text": [
      "abcdefghijklmnopqrstuvwxys\n",
      "5\n",
      "abcde\n",
      "fghij\n",
      "klmno\n",
      "pqrst\n",
      "uvwxy\n",
      "s\n"
     ]
    }
   ],
   "source": [
    "# Question 7 - Text Wrap\n",
    "\n",
    "import textwrap\n",
    "\n",
    "def wrap(string, max_width):\n",
    "    return \"\\n\".join(textwrap.wrap(string, max_width))\n",
    "\n",
    "if __name__ == '__main__':\n",
    "    string, max_width = input(), int(input())\n",
    "    result = wrap(string, max_width)\n",
    "    print(result)"
   ]
  },
  {
   "cell_type": "code",
   "execution_count": 2,
   "metadata": {},
   "outputs": [
    {
     "name": "stdout",
     "output_type": "stream",
     "text": [
      "7 21\n",
      "---------.|.---------\n",
      "------.|..|..|.------\n",
      "---.|..|..|..|..|.---\n",
      "-------WELCOME-------\n",
      "---.|..|..|..|..|.---\n",
      "------.|..|..|.------\n",
      "---------.|.---------\n"
     ]
    }
   ],
   "source": [
    "# Question 8 - Designer Door Mat\n",
    "\n",
    "N, M = map(int,input().split())\n",
    "for i in range(1,N,2): \n",
    "    print((i * \".|.\").center(M, \"-\"))\n",
    "print(\"WELCOME\".center(M,\"-\"))\n",
    "for i in range(N-2,-1,-2): \n",
    "    print((i * \".|.\").center(M, \"-\"))"
   ]
  },
  {
   "cell_type": "code",
   "execution_count": 4,
   "metadata": {},
   "outputs": [
    {
     "name": "stdout",
     "output_type": "stream",
     "text": [
      "10\n",
      "   1    1    1    1\n",
      "   2    2    2   10\n",
      "   3    3    3   11\n",
      "   4    4    4  100\n",
      "   5    5    5  101\n",
      "   6    6    6  110\n",
      "   7    7    7  111\n",
      "   8   10    8 1000\n",
      "   9   11    9 1001\n",
      "  10   12    A 1010\n"
     ]
    }
   ],
   "source": [
    "# Question 9 - String Formatting\n",
    "\n",
    "def print_formatted(number):\n",
    "    width = len(str(bin(number))[2:])\n",
    "    for i in range(1, number+1):\n",
    "        decimal = str(i).rjust(width, ' ')\n",
    "        octal = str(oct(i)[2:]).rjust(width, ' ')\n",
    "        hexadecimal = str(hex(i)[2:]).upper().rjust(width, ' ')\n",
    "        binary = str(bin(i)[2:]).rjust(width, ' ')\n",
    "        \n",
    "        print (decimal, octal, hexadecimal, binary)\n",
    "\n",
    "if __name__ == '__main__':\n",
    "    n = int(input())\n",
    "    print_formatted(n)"
   ]
  },
  {
   "cell_type": "code",
   "execution_count": 5,
   "metadata": {},
   "outputs": [
    {
     "name": "stdout",
     "output_type": "stream",
     "text": [
      "6\n",
      "----------f----------\n",
      "--------f-e-f--------\n",
      "------f-e-d-e-f------\n",
      "----f-e-d-c-d-e-f----\n",
      "--f-e-d-c-b-c-d-e-f--\n",
      "f-e-d-c-b-a-b-c-d-e-f\n",
      "--f-e-d-c-b-c-d-e-f--\n",
      "----f-e-d-c-d-e-f----\n",
      "------f-e-d-e-f------\n",
      "--------f-e-f--------\n",
      "----------f----------\n"
     ]
    }
   ],
   "source": [
    "# Question 10 - Alphabet Rangoli\n",
    "\n",
    "def print_rangoli(size):\n",
    "    \n",
    "    from string import ascii_lowercase as chars\n",
    "    heap = [(('-'.join(chars[i:n])[::-1]+'-'.join(chars[i:n])[1:])).center(4*n-3, '-')       for i in range(n)]\n",
    "    print(*(heap[::-1]+heap[1:]), sep=\"\\n\")\n",
    "\n",
    "if __name__ == '__main__':\n",
    "    n = int(input())\n",
    "    print_rangoli(n)"
   ]
  },
  {
   "cell_type": "code",
   "execution_count": 7,
   "metadata": {},
   "outputs": [
    {
     "name": "stdout",
     "output_type": "stream",
     "text": [
      "param choksi\n",
      "Param Choksi\n"
     ]
    }
   ],
   "source": [
    "# Question 11 - Capitalize!\n",
    "\n",
    "def solve(s):\n",
    "    \n",
    "    for x in s[:].split():\n",
    "        s = s.replace(x, x.capitalize())\n",
    "    \n",
    "    return s\n",
    "\n",
    "if __name__ == '__main__':\n",
    "\n",
    "    s = input()\n",
    "\n",
    "    result = solve(s)\n",
    "    print(result)"
   ]
  },
  {
   "cell_type": "code",
   "execution_count": 8,
   "metadata": {},
   "outputs": [
    {
     "name": "stdout",
     "output_type": "stream",
     "text": [
      "param\n",
      "Stuart 15\n"
     ]
    }
   ],
   "source": [
    "# Question 12 - The Minion Game\n",
    "\n",
    "def minion_game(string):\n",
    "    vowel =['A','E','I','O','U']\n",
    "    S=0\n",
    "    K=0\n",
    "    for i in range(len(string)):\n",
    "        if string[i] in vowel:\n",
    "            K+= len(string)-i\n",
    "        else:\n",
    "            S+=len(string)-i\n",
    "    if S>K:\n",
    "        print(\"Stuart\"+\" \"+ \"%d\" % S)\n",
    "    elif K>S:\n",
    "        print(\"Kevin\"+\" \"+'%d' % K)\n",
    "    else:\n",
    "        print(\"Draw\")\n",
    "\n",
    "if __name__ == '__main__':\n",
    "    s = input()\n",
    "    minion_game(s)"
   ]
  },
  {
   "cell_type": "code",
   "execution_count": 9,
   "metadata": {},
   "outputs": [
    {
     "name": "stdout",
     "output_type": "stream",
     "text": [
      "paramchoksi\n",
      "3\n",
      "par\n",
      "amc\n",
      "hok\n",
      "si\n"
     ]
    }
   ],
   "source": [
    "# Question 13 - Merge the Tools!\n",
    "\n",
    "from collections import OrderedDict\n",
    "def merge_the_tools(string, k):\n",
    "    for x in range(0,len(string),k):     \n",
    "        print(''.join(list(OrderedDict.fromkeys(string[x:x+k]))))\n",
    "\n",
    "if __name__ == '__main__':\n",
    "    string, k = input(), int(input())\n",
    "    merge_the_tools(string, k)"
   ]
  },
  {
   "cell_type": "code",
   "execution_count": null,
   "metadata": {},
   "outputs": [],
   "source": []
  }
 ],
 "metadata": {
  "kernelspec": {
   "display_name": "Python 3",
   "language": "python",
   "name": "python3"
  },
  "language_info": {
   "codemirror_mode": {
    "name": "ipython",
    "version": 3
   },
   "file_extension": ".py",
   "mimetype": "text/x-python",
   "name": "python",
   "nbconvert_exporter": "python",
   "pygments_lexer": "ipython3",
   "version": "3.8.5"
  }
 },
 "nbformat": 4,
 "nbformat_minor": 4
}
